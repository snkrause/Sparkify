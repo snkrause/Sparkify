{
 "cells": [
  {
   "cell_type": "markdown",
   "id": "2a142be8",
   "metadata": {},
   "source": [
    "# Sparkify notebook \"Machine Learning\" on AWS\n",
    "\n",
    "This notebook connects to the full \"Sparkify\" dataset on an S3 storage at AWS. It bases on the local evaluation of the small dataset provided by udacity. The PySpark Kernel available on the EMR-Notebook at AWS misses some of the python libraries I needed to process my data and the code for plotting the data differs from my local notebook. A very good introduction on how to adjust the code is provided by Amazon: https://aws.amazon.com/de/blogs/big-data/install-python-libraries-on-a-running-cluster-with-emr-notebooks/"
   ]
  },
  {
   "cell_type": "markdown",
   "id": "07b9ff21",
   "metadata": {},
   "source": [
    "## install missing libraries"
   ]
  },
  {
   "cell_type": "code",
   "execution_count": 1,
   "id": "ad0a65d6",
   "metadata": {},
   "outputs": [
    {
     "data": {
      "application/vnd.jupyter.widget-view+json": {
       "model_id": "f43c371d959442dca9f99fc3a4c2d317",
       "version_major": 2,
       "version_minor": 0
      },
      "text/plain": [
       "VBox()"
      ]
     },
     "metadata": {},
     "output_type": "display_data"
    },
    {
     "name": "stdout",
     "output_type": "stream",
     "text": [
      "Starting Spark application\n"
     ]
    },
    {
     "data": {
      "text/html": [
       "<table>\n",
       "<tr><th>ID</th><th>YARN Application ID</th><th>Kind</th><th>State</th><th>Spark UI</th><th>Driver log</th><th>Current session?</th></tr><tr><td>0</td><td>application_1620388372275_0001</td><td>pyspark</td><td>idle</td><td><a target=\"_blank\" href=\"http://ip-172-31-29-70.eu-central-1.compute.internal:20888/proxy/application_1620388372275_0001/\" class=\"emr-proxy-link\" emr-resource=\"j-2VRROWD5027FW\n",
       "\" application-id=\"application_1620388372275_0001\">Link</a></td><td><a target=\"_blank\" href=\"http://ip-172-31-17-236.eu-central-1.compute.internal:8042/node/containerlogs/container_1620388372275_0001_01_000001/livy\" >Link</a></td><td>✔</td></tr></table>"
      ],
      "text/plain": [
       "<IPython.core.display.HTML object>"
      ]
     },
     "metadata": {},
     "output_type": "display_data"
    },
    {
     "data": {
      "application/vnd.jupyter.widget-view+json": {
       "model_id": "",
       "version_major": 2,
       "version_minor": 0
      },
      "text/plain": [
       "FloatProgress(value=0.0, bar_style='info', description='Progress:', layout=Layout(height='25px', width='50%'),…"
      ]
     },
     "metadata": {},
     "output_type": "display_data"
    },
    {
     "name": "stdout",
     "output_type": "stream",
     "text": [
      "SparkSession available as 'spark'.\n"
     ]
    },
    {
     "data": {
      "application/vnd.jupyter.widget-view+json": {
       "model_id": "",
       "version_major": 2,
       "version_minor": 0
      },
      "text/plain": [
       "FloatProgress(value=0.0, bar_style='info', description='Progress:', layout=Layout(height='25px', width='50%'),…"
      ]
     },
     "metadata": {},
     "output_type": "display_data"
    },
    {
     "name": "stdout",
     "output_type": "stream",
     "text": [
      "Collecting pandas==0.25.1\n",
      "  Downloading https://files.pythonhosted.org/packages/7e/ab/ea76361f9d3e732e114adcd801d2820d5319c23d0ac5482fa3b412db217e/pandas-0.25.1-cp37-cp37m-manylinux1_x86_64.whl (10.4MB)\n",
      "Requirement already satisfied: pytz>=2017.2 in /usr/local/lib/python3.7/site-packages (from pandas==0.25.1)\n",
      "Requirement already satisfied: numpy>=1.13.3 in /usr/local/lib64/python3.7/site-packages (from pandas==0.25.1)\n",
      "Collecting python-dateutil>=2.6.1 (from pandas==0.25.1)\n",
      "  Downloading https://files.pythonhosted.org/packages/d4/70/d60450c3dd48ef87586924207ae8907090de0b306af2bce5d134d78615cb/python_dateutil-2.8.1-py2.py3-none-any.whl (227kB)\n",
      "Requirement already satisfied: six>=1.5 in /usr/local/lib/python3.7/site-packages (from python-dateutil>=2.6.1->pandas==0.25.1)\n",
      "Installing collected packages: python-dateutil, pandas\n",
      "Successfully installed pandas-0.25.1 python-dateutil-2.8.1"
     ]
    }
   ],
   "source": [
    "sc.install_pypi_package(\"pandas==0.25.1\") #Install pandas version 0.25.1 "
   ]
  },
  {
   "cell_type": "markdown",
   "id": "71a4d93b",
   "metadata": {},
   "source": [
    "## import all libraries needed"
   ]
  },
  {
   "cell_type": "code",
   "execution_count": 2,
   "id": "33a4c272",
   "metadata": {},
   "outputs": [
    {
     "data": {
      "application/vnd.jupyter.widget-view+json": {
       "model_id": "736f3eb4d49e4c7bb1fb2165c5fea37b",
       "version_major": 2,
       "version_minor": 0
      },
      "text/plain": [
       "VBox()"
      ]
     },
     "metadata": {},
     "output_type": "display_data"
    },
    {
     "data": {
      "application/vnd.jupyter.widget-view+json": {
       "model_id": "",
       "version_major": 2,
       "version_minor": 0
      },
      "text/plain": [
       "FloatProgress(value=0.0, bar_style='info', description='Progress:', layout=Layout(height='25px', width='50%'),…"
      ]
     },
     "metadata": {},
     "output_type": "display_data"
    }
   ],
   "source": [
    "from pyspark.sql import SparkSession\n",
    "import pyspark.sql.functions as F\n",
    "from pyspark.sql.types import StringType\n",
    "from pyspark.sql.types import IntegerType\n",
    "from pyspark.sql.functions import desc\n",
    "from pyspark.sql.functions import asc, count, countDistinct\n",
    "from pyspark.sql.functions import sum as Fsum\n",
    "from pyspark.sql.functions import mean as Fmean\n",
    "from pyspark.sql.functions import round as Fround\n",
    "from pyspark.sql.functions import max as Fmax\n",
    "from pyspark.sql.functions import col\n",
    "from pyspark.ml import Pipeline\n",
    "from pyspark.ml.feature import VectorAssembler, Normalizer, StandardScaler\n",
    "from pyspark.ml.classification import RandomForestClassifier, DecisionTreeClassifier\n",
    "from pyspark.ml.evaluation import MulticlassClassificationEvaluator\n",
    "from pyspark.mllib.evaluation import MulticlassMetrics\n",
    "from pyspark.ml.tuning import CrossValidator, ParamGridBuilder\n",
    "\n",
    "import datetime\n",
    "\n",
    "import pandas as pd\n",
    "import numpy as np"
   ]
  },
  {
   "cell_type": "markdown",
   "id": "4e59d4a5",
   "metadata": {},
   "source": [
    "## define metrics for model evaluation"
   ]
  },
  {
   "cell_type": "code",
   "execution_count": 3,
   "id": "bba756fa",
   "metadata": {},
   "outputs": [
    {
     "data": {
      "application/vnd.jupyter.widget-view+json": {
       "model_id": "717b892a560f4fffad5866421245d40d",
       "version_major": 2,
       "version_minor": 0
      },
      "text/plain": [
       "VBox()"
      ]
     },
     "metadata": {},
     "output_type": "display_data"
    },
    {
     "data": {
      "application/vnd.jupyter.widget-view+json": {
       "model_id": "",
       "version_major": 2,
       "version_minor": 0
      },
      "text/plain": [
       "FloatProgress(value=0.0, bar_style='info', description='Progress:', layout=Layout(height='25px', width='50%'),…"
      ]
     },
     "metadata": {},
     "output_type": "display_data"
    }
   ],
   "source": [
    "def model_evaluator(results):\n",
    "    \"\"\"\n",
    "    This function calculates the true/false positive/negative prediction from the predicted test dataset.\n",
    "    Those are then used to calculate the model evaluation metrics and a confusion matrix.\n",
    "    \n",
    "    INPUT:\n",
    "    results: test-dataset including the prediction column\n",
    "    \n",
    "    OUTPUT:\n",
    "    standard metrics for model evaluation and a confusion matrix\n",
    "    \"\"\"\n",
    "    \n",
    "    #extract right and wrong predicted values and count their numbers \n",
    "    true_negative = results.filter((results.prediction == 0)&(results.churn==0)).count() * 1.0 \n",
    "    false_positive = results.filter((results.prediction == 1)&(results.churn==0)).count() * 1.0 \n",
    "    false_negative = results.filter((results.prediction == 0)&(results.churn==1)).count() * 1.0 \n",
    "    true_positive = results.filter((results.prediction == 1)&(results.churn==1)).count() * 1.0 \n",
    "    \n",
    "    #calculate standard measures for evaluating the model\n",
    "    accuracy = (true_positive+true_negative)/(true_negative+false_positive+false_negative+true_positive)\n",
    "    precision = true_positive/(true_positive+false_positive)\n",
    "    recall = true_positive/(true_positive+false_negative)\n",
    "    f1 = 2.0 * (precision * recall)/(precision + recall)\n",
    "    \n",
    "    #\n",
    "    print(\"Accuracy: {}\".format(accuracy))\n",
    "    print(\"Precision: {}\".format(precision))\n",
    "    print(\"F1-Score: {}\".format(f1))\n",
    "    print(\"Recall: {}\".format(recall))\n",
    "    \n",
    "    #create confusion matrix to illustrate model quality\n",
    "    print(\"\\n Confusion Matrix \\n\")\n",
    "    print(\"TRUE_NEGATIVE:{} \t FALSE_POSITIVE:{}\".format(true_negative,false_positive))\n",
    "    print(\"FALSE_NEGATIVE:{} \t TRUE_POSITIVE: {}\".format(false_negative, true_positive))"
   ]
  },
  {
   "cell_type": "markdown",
   "id": "f980be72",
   "metadata": {},
   "source": [
    "## setup spark session"
   ]
  },
  {
   "cell_type": "code",
   "execution_count": 4,
   "id": "271e7289",
   "metadata": {},
   "outputs": [
    {
     "data": {
      "application/vnd.jupyter.widget-view+json": {
       "model_id": "15af2f2923bf499cae11e6e6fc3765ad",
       "version_major": 2,
       "version_minor": 0
      },
      "text/plain": [
       "VBox()"
      ]
     },
     "metadata": {},
     "output_type": "display_data"
    },
    {
     "data": {
      "application/vnd.jupyter.widget-view+json": {
       "model_id": "",
       "version_major": 2,
       "version_minor": 0
      },
      "text/plain": [
       "FloatProgress(value=0.0, bar_style='info', description='Progress:', layout=Layout(height='25px', width='50%'),…"
      ]
     },
     "metadata": {},
     "output_type": "display_data"
    }
   ],
   "source": [
    "# Create spark session\n",
    "spark = SparkSession \\\n",
    "    .builder \\\n",
    "    .appName(\"Sparkify\") \\\n",
    "    .getOrCreate()"
   ]
  },
  {
   "cell_type": "markdown",
   "id": "f5cda76b",
   "metadata": {},
   "source": [
    "## import data from S3-repository"
   ]
  },
  {
   "cell_type": "code",
   "execution_count": 5,
   "id": "0297ff56",
   "metadata": {},
   "outputs": [
    {
     "data": {
      "application/vnd.jupyter.widget-view+json": {
       "model_id": "966f0a296a00490b9da6ba5901571d6e",
       "version_major": 2,
       "version_minor": 0
      },
      "text/plain": [
       "VBox()"
      ]
     },
     "metadata": {},
     "output_type": "display_data"
    },
    {
     "data": {
      "application/vnd.jupyter.widget-view+json": {
       "model_id": "",
       "version_major": 2,
       "version_minor": 0
      },
      "text/plain": [
       "FloatProgress(value=0.0, bar_style='info', description='Progress:', layout=Layout(height='25px', width='50%'),…"
      ]
     },
     "metadata": {},
     "output_type": "display_data"
    },
    {
     "name": "stdout",
     "output_type": "stream",
     "text": [
      "root\n",
      " |-- artist: string (nullable = true)\n",
      " |-- auth: string (nullable = true)\n",
      " |-- firstName: string (nullable = true)\n",
      " |-- gender: string (nullable = true)\n",
      " |-- itemInSession: long (nullable = true)\n",
      " |-- lastName: string (nullable = true)\n",
      " |-- length: double (nullable = true)\n",
      " |-- level: string (nullable = true)\n",
      " |-- location: string (nullable = true)\n",
      " |-- method: string (nullable = true)\n",
      " |-- page: string (nullable = true)\n",
      " |-- registration: long (nullable = true)\n",
      " |-- sessionId: long (nullable = true)\n",
      " |-- song: string (nullable = true)\n",
      " |-- status: long (nullable = true)\n",
      " |-- ts: long (nullable = true)\n",
      " |-- userAgent: string (nullable = true)\n",
      " |-- userId: string (nullable = true)"
     ]
    }
   ],
   "source": [
    "# Read in full sparkify dataset\n",
    "event_data = \"s3n://udacity-dsnd/sparkify/sparkify_event_data.json\"\n",
    "user_log = spark.read.json(event_data)\n",
    "user_log.printSchema()"
   ]
  },
  {
   "cell_type": "markdown",
   "id": "d6cbf9e6",
   "metadata": {},
   "source": [
    "## clean dataset"
   ]
  },
  {
   "cell_type": "code",
   "execution_count": 6,
   "id": "fe5fb1f5",
   "metadata": {},
   "outputs": [
    {
     "data": {
      "application/vnd.jupyter.widget-view+json": {
       "model_id": "25266162c899468487fbc2f774df9347",
       "version_major": 2,
       "version_minor": 0
      },
      "text/plain": [
       "VBox()"
      ]
     },
     "metadata": {},
     "output_type": "display_data"
    },
    {
     "data": {
      "application/vnd.jupyter.widget-view+json": {
       "model_id": "",
       "version_major": 2,
       "version_minor": 0
      },
      "text/plain": [
       "FloatProgress(value=0.0, bar_style='info', description='Progress:', layout=Layout(height='25px', width='50%'),…"
      ]
     },
     "metadata": {},
     "output_type": "display_data"
    },
    {
     "name": "stdout",
     "output_type": "stream",
     "text": [
      "dataframe w/o empty userId's has 26259199 rows and 18 columns."
     ]
    }
   ],
   "source": [
    "#drop invalid (guest) userId's\n",
    "user_log = user_log.where(user_log.userId != \"\")\n",
    "print(\"dataframe w/o empty userId's has\",user_log.count(),\"rows and\",len(user_log.columns),\"columns.\")"
   ]
  },
  {
   "cell_type": "code",
   "execution_count": 7,
   "id": "8e766122",
   "metadata": {},
   "outputs": [
    {
     "data": {
      "application/vnd.jupyter.widget-view+json": {
       "model_id": "afe54e0896f44eb59d7409aeba0ac5cd",
       "version_major": 2,
       "version_minor": 0
      },
      "text/plain": [
       "VBox()"
      ]
     },
     "metadata": {},
     "output_type": "display_data"
    },
    {
     "data": {
      "application/vnd.jupyter.widget-view+json": {
       "model_id": "",
       "version_major": 2,
       "version_minor": 0
      },
      "text/plain": [
       "FloatProgress(value=0.0, bar_style='info', description='Progress:', layout=Layout(height='25px', width='50%'),…"
      ]
     },
     "metadata": {},
     "output_type": "display_data"
    },
    {
     "name": "stdout",
     "output_type": "stream",
     "text": [
      "dataframe w/o duplicates has 26259199 rows and 18 columns."
     ]
    }
   ],
   "source": [
    "#drop duplicate rows\n",
    "user_log = user_log.dropDuplicates()\n",
    "print(\"dataframe w/o duplicates has\",user_log.count(),\"rows and\",len(user_log.columns),\"columns.\")"
   ]
  },
  {
   "cell_type": "markdown",
   "id": "42d65865",
   "metadata": {},
   "source": [
    "## feature creation and selection"
   ]
  },
  {
   "cell_type": "markdown",
   "id": "e210bbc0",
   "metadata": {},
   "source": [
    "### create new feature \"membership_days\" as mutual time reference for all users"
   ]
  },
  {
   "cell_type": "code",
   "execution_count": 8,
   "id": "dc85da94",
   "metadata": {},
   "outputs": [
    {
     "data": {
      "application/vnd.jupyter.widget-view+json": {
       "model_id": "5a5772d9d6d14bfb90ea66e0e04b03b1",
       "version_major": 2,
       "version_minor": 0
      },
      "text/plain": [
       "VBox()"
      ]
     },
     "metadata": {},
     "output_type": "display_data"
    },
    {
     "data": {
      "application/vnd.jupyter.widget-view+json": {
       "model_id": "",
       "version_major": 2,
       "version_minor": 0
      },
      "text/plain": [
       "FloatProgress(value=0.0, bar_style='info', description='Progress:', layout=Layout(height='25px', width='50%'),…"
      ]
     },
     "metadata": {},
     "output_type": "display_data"
    }
   ],
   "source": [
    "user_log=user_log.withColumn(\"membership_days\", Fround((col('ts')/1000-col('registration')/1000)/86400).cast(IntegerType()))"
   ]
  },
  {
   "cell_type": "markdown",
   "id": "b12716a5",
   "metadata": {},
   "source": [
    "### convert columns with categorical variables into 0 and 1 columns"
   ]
  },
  {
   "cell_type": "code",
   "execution_count": 9,
   "id": "f711d14e",
   "metadata": {},
   "outputs": [
    {
     "data": {
      "application/vnd.jupyter.widget-view+json": {
       "model_id": "b893547956294264a7722b3a3f9b9f60",
       "version_major": 2,
       "version_minor": 0
      },
      "text/plain": [
       "VBox()"
      ]
     },
     "metadata": {},
     "output_type": "display_data"
    },
    {
     "data": {
      "application/vnd.jupyter.widget-view+json": {
       "model_id": "",
       "version_major": 2,
       "version_minor": 0
      },
      "text/plain": [
       "FloatProgress(value=0.0, bar_style='info', description='Progress:', layout=Layout(height='25px', width='50%'),…"
      ]
     },
     "metadata": {},
     "output_type": "display_data"
    }
   ],
   "source": [
    "column_list=['auth','gender','level','status','page']"
   ]
  },
  {
   "cell_type": "code",
   "execution_count": 10,
   "id": "8a17c94b",
   "metadata": {},
   "outputs": [
    {
     "data": {
      "application/vnd.jupyter.widget-view+json": {
       "model_id": "a9d64830149a4162a37f0b07208bebbf",
       "version_major": 2,
       "version_minor": 0
      },
      "text/plain": [
       "VBox()"
      ]
     },
     "metadata": {},
     "output_type": "display_data"
    },
    {
     "data": {
      "application/vnd.jupyter.widget-view+json": {
       "model_id": "",
       "version_major": 2,
       "version_minor": 0
      },
      "text/plain": [
       "FloatProgress(value=0.0, bar_style='info', description='Progress:', layout=Layout(height='25px', width='50%'),…"
      ]
     },
     "metadata": {},
     "output_type": "display_data"
    }
   ],
   "source": [
    "cols_add=[]\n",
    "for column in column_list:\n",
    "    categories = user_log.select(column).distinct().rdd.flatMap(lambda x: x).collect()\n",
    "    cols_add = cols_add + [F.when(F.col(column) == cat, 1).otherwise(0).alias(column + \"_\" + str(cat).lower().replace(\" \",\"_\")) for cat in categories]"
   ]
  },
  {
   "cell_type": "code",
   "execution_count": 11,
   "id": "2c286609",
   "metadata": {},
   "outputs": [
    {
     "data": {
      "application/vnd.jupyter.widget-view+json": {
       "model_id": "1e1a5a739ed549949d7a4a1bd945e5a0",
       "version_major": 2,
       "version_minor": 0
      },
      "text/plain": [
       "VBox()"
      ]
     },
     "metadata": {},
     "output_type": "display_data"
    },
    {
     "data": {
      "application/vnd.jupyter.widget-view+json": {
       "model_id": "",
       "version_major": 2,
       "version_minor": 0
      },
      "text/plain": [
       "FloatProgress(value=0.0, bar_style='info', description='Progress:', layout=Layout(height='25px', width='50%'),…"
      ]
     },
     "metadata": {},
     "output_type": "display_data"
    },
    {
     "name": "stdout",
     "output_type": "stream",
     "text": [
      "root\n",
      " |-- artist: string (nullable = true)\n",
      " |-- auth: string (nullable = true)\n",
      " |-- firstName: string (nullable = true)\n",
      " |-- gender: string (nullable = true)\n",
      " |-- itemInSession: long (nullable = true)\n",
      " |-- lastName: string (nullable = true)\n",
      " |-- length: double (nullable = true)\n",
      " |-- level: string (nullable = true)\n",
      " |-- location: string (nullable = true)\n",
      " |-- method: string (nullable = true)\n",
      " |-- page: string (nullable = true)\n",
      " |-- registration: long (nullable = true)\n",
      " |-- sessionId: long (nullable = true)\n",
      " |-- song: string (nullable = true)\n",
      " |-- status: long (nullable = true)\n",
      " |-- ts: long (nullable = true)\n",
      " |-- userAgent: string (nullable = true)\n",
      " |-- userId: string (nullable = true)\n",
      " |-- membership_days: integer (nullable = true)"
     ]
    }
   ],
   "source": [
    "user_log_features =user_log.select(\"userId\",\"membership_days\",*cols_add)\n",
    "user_log.printSchema()"
   ]
  },
  {
   "cell_type": "code",
   "execution_count": 12,
   "id": "e15305f6",
   "metadata": {},
   "outputs": [
    {
     "data": {
      "application/vnd.jupyter.widget-view+json": {
       "model_id": "1eafd48fd65a4766ac17ffd8f8411a96",
       "version_major": 2,
       "version_minor": 0
      },
      "text/plain": [
       "VBox()"
      ]
     },
     "metadata": {},
     "output_type": "display_data"
    },
    {
     "data": {
      "application/vnd.jupyter.widget-view+json": {
       "model_id": "",
       "version_major": 2,
       "version_minor": 0
      },
      "text/plain": [
       "FloatProgress(value=0.0, bar_style='info', description='Progress:', layout=Layout(height='25px', width='50%'),…"
      ]
     },
     "metadata": {},
     "output_type": "display_data"
    },
    {
     "name": "stdout",
     "output_type": "stream",
     "text": [
      "dataframe has 26259199 rows and 36 columns."
     ]
    }
   ],
   "source": [
    "print(\"dataframe has\",user_log_features.count(),\"rows and\",len(user_log_features.columns),\"columns.\")"
   ]
  },
  {
   "cell_type": "markdown",
   "id": "9e23ab8a",
   "metadata": {},
   "source": [
    "### aggregate data by \"userId\" to prepare for ML"
   ]
  },
  {
   "cell_type": "code",
   "execution_count": 13,
   "id": "81fadf9a",
   "metadata": {},
   "outputs": [
    {
     "data": {
      "application/vnd.jupyter.widget-view+json": {
       "model_id": "15bc1c32f2d847599aa5a995a33c7930",
       "version_major": 2,
       "version_minor": 0
      },
      "text/plain": [
       "VBox()"
      ]
     },
     "metadata": {},
     "output_type": "display_data"
    },
    {
     "data": {
      "application/vnd.jupyter.widget-view+json": {
       "model_id": "",
       "version_major": 2,
       "version_minor": 0
      },
      "text/plain": [
       "FloatProgress(value=0.0, bar_style='info', description='Progress:', layout=Layout(height='25px', width='50%'),…"
      ]
     },
     "metadata": {},
     "output_type": "display_data"
    }
   ],
   "source": [
    "df=user_log_features\\\n",
    "        .groupBy(\"userId\") \\\n",
    "        .agg( \\\n",
    "             Fmax(\"membership_days\").alias(\"max_membership_days\"), \\\n",
    "             countDistinct(\"membership_days\").alias(\"active_days\"), \\\n",
    "             Fmax(\"gender_m\").alias(\"gender_m\"), \\\n",
    "             Fmax(\"level_paid\").alias(\"level_paid\"), \\\n",
    "             Fsum(\"status_200\").alias(\"sum_status_200\"), \\\n",
    "             Fsum(\"status_307\").alias(\"sum_status_307\"), \\\n",
    "             Fsum(\"status_404\").alias(\"sum_status_404\"), \\\n",
    "             Fsum(\"page_nextsong\").alias(\"sum_page_nextsong\"), \\\n",
    "             Fsum(\"page_add_to_playlist\").alias(\"sum_page_add_to_playlist\"), \\\n",
    "             Fsum(\"page_roll_advert\").alias(\"sum_page_roll_advert\"), \\\n",
    "             Fsum(\"page_thumbs_up\").alias(\"sum_page_thumbs_up\"), \\\n",
    "             Fsum(\"page_home\").alias(\"sum_page_home\"), \\\n",
    "             Fsum(\"page_logout\").alias(\"sum_page_logout\"), \\\n",
    "             Fsum(\"page_help\").alias(\"sum_page_help\"), \\\n",
    "             Fsum(\"page_upgrade\").alias(\"sum_page_upgrade\"), \\\n",
    "             Fsum(\"page_add_friend\").alias(\"sum_page_add_friend\"), \\\n",
    "             Fsum(\"page_settings\").alias(\"sum_page_settings\"), \\\n",
    "             Fsum(\"page_submit_upgrade\").alias(\"sum_page_submit_upgrade\"), \\\n",
    "             Fsum(\"page_about\").alias(\"sum_page_about\"), \\\n",
    "             Fsum(\"page_submit_downgrade\").alias(\"sum_page_submit_downgrade\"), \\\n",
    "             Fsum(\"page_error\").alias(\"sum_page_error\"), \\\n",
    "             Fsum(\"page_save_settings\").alias(\"sum_page_save_settings\"), \\\n",
    "             Fsum(\"page_cancel\").alias(\"sum_page_cancel\"), \\\n",
    "             Fsum(\"page_cancellation_confirmation\").alias(\"churn\") \\\n",
    "             ).dropna()"
   ]
  },
  {
   "cell_type": "code",
   "execution_count": 14,
   "id": "5330b1c9",
   "metadata": {},
   "outputs": [
    {
     "data": {
      "application/vnd.jupyter.widget-view+json": {
       "model_id": "f6656a4463944ac4b2ba37763926bcce",
       "version_major": 2,
       "version_minor": 0
      },
      "text/plain": [
       "VBox()"
      ]
     },
     "metadata": {},
     "output_type": "display_data"
    },
    {
     "data": {
      "application/vnd.jupyter.widget-view+json": {
       "model_id": "",
       "version_major": 2,
       "version_minor": 0
      },
      "text/plain": [
       "FloatProgress(value=0.0, bar_style='info', description='Progress:', layout=Layout(height='25px', width='50%'),…"
      ]
     },
     "metadata": {},
     "output_type": "display_data"
    },
    {
     "name": "stdout",
     "output_type": "stream",
     "text": [
      "root\n",
      " |-- userId: string (nullable = true)\n",
      " |-- max_membership_days: integer (nullable = true)\n",
      " |-- active_days: long (nullable = false)\n",
      " |-- gender_m: integer (nullable = true)\n",
      " |-- level_paid: integer (nullable = true)\n",
      " |-- sum_status_200: long (nullable = true)\n",
      " |-- sum_status_307: long (nullable = true)\n",
      " |-- sum_status_404: long (nullable = true)\n",
      " |-- sum_page_nextsong: long (nullable = true)\n",
      " |-- sum_page_add_to_playlist: long (nullable = true)\n",
      " |-- sum_page_roll_advert: long (nullable = true)\n",
      " |-- sum_page_thumbs_up: long (nullable = true)\n",
      " |-- sum_page_home: long (nullable = true)\n",
      " |-- sum_page_logout: long (nullable = true)\n",
      " |-- sum_page_help: long (nullable = true)\n",
      " |-- sum_page_upgrade: long (nullable = true)\n",
      " |-- sum_page_add_friend: long (nullable = true)\n",
      " |-- sum_page_settings: long (nullable = true)\n",
      " |-- sum_page_submit_upgrade: long (nullable = true)\n",
      " |-- sum_page_about: long (nullable = true)\n",
      " |-- sum_page_submit_downgrade: long (nullable = true)\n",
      " |-- sum_page_error: long (nullable = true)\n",
      " |-- sum_page_save_settings: long (nullable = true)\n",
      " |-- sum_page_cancel: long (nullable = true)\n",
      " |-- churn: long (nullable = true)"
     ]
    }
   ],
   "source": [
    "df.printSchema()"
   ]
  },
  {
   "cell_type": "code",
   "execution_count": 15,
   "id": "40fab2fa",
   "metadata": {},
   "outputs": [
    {
     "data": {
      "application/vnd.jupyter.widget-view+json": {
       "model_id": "558862a9e78c4cc69664e4fdb783042f",
       "version_major": 2,
       "version_minor": 0
      },
      "text/plain": [
       "VBox()"
      ]
     },
     "metadata": {},
     "output_type": "display_data"
    },
    {
     "data": {
      "application/vnd.jupyter.widget-view+json": {
       "model_id": "",
       "version_major": 2,
       "version_minor": 0
      },
      "text/plain": [
       "FloatProgress(value=0.0, bar_style='info', description='Progress:', layout=Layout(height='25px', width='50%'),…"
      ]
     },
     "metadata": {},
     "output_type": "display_data"
    },
    {
     "name": "stdout",
     "output_type": "stream",
     "text": [
      "dataframe 'df' has 22277 rows and 25 columns."
     ]
    }
   ],
   "source": [
    "print(\"dataframe 'df' has\",df.count(),\"rows and\",len(df.columns),\"columns.\")"
   ]
  },
  {
   "cell_type": "code",
   "execution_count": 16,
   "id": "e09e5284",
   "metadata": {},
   "outputs": [
    {
     "data": {
      "application/vnd.jupyter.widget-view+json": {
       "model_id": "da481adcccc84162947e2cce6fda745f",
       "version_major": 2,
       "version_minor": 0
      },
      "text/plain": [
       "VBox()"
      ]
     },
     "metadata": {},
     "output_type": "display_data"
    },
    {
     "data": {
      "application/vnd.jupyter.widget-view+json": {
       "model_id": "",
       "version_major": 2,
       "version_minor": 0
      },
      "text/plain": [
       "FloatProgress(value=0.0, bar_style='info', description='Progress:', layout=Layout(height='25px', width='50%'),…"
      ]
     },
     "metadata": {},
     "output_type": "display_data"
    },
    {
     "name": "stdout",
     "output_type": "stream",
     "text": [
      "+-------+-------------------+-----------+--------+----------+--------------+--------------+--------------+-----------------+------------------------+--------------------+------------------+-------------+---------------+-------------+----------------+-------------------+-----------------+-----------------------+--------------+-------------------------+--------------+----------------------+---------------+-----+\n",
      "| userId|max_membership_days|active_days|gender_m|level_paid|sum_status_200|sum_status_307|sum_status_404|sum_page_nextsong|sum_page_add_to_playlist|sum_page_roll_advert|sum_page_thumbs_up|sum_page_home|sum_page_logout|sum_page_help|sum_page_upgrade|sum_page_add_friend|sum_page_settings|sum_page_submit_upgrade|sum_page_about|sum_page_submit_downgrade|sum_page_error|sum_page_save_settings|sum_page_cancel|churn|\n",
      "+-------+-------------------+-----------+--------+----------+--------------+--------------+--------------+-----------------+------------------------+--------------------+------------------+-------------+---------------+-------------+----------------+-------------------+-----------------+-----------------------+--------------+-------------------------+--------------+----------------------+---------------+-----+\n",
      "|1000025|                100|         14|       1|         1|          1836|           168|             1|             1662|                      53|                   7|                94|           77|             26|            8|               1|                 30|                8|                      1|             1|                        0|             1|                     3|              1|    1|\n",
      "|1000035|                 69|         23|       0|         1|          1396|           180|             1|             1281|                      27|                   6|               119|           56|             20|            5|               5|                 23|                7|                      1|             2|                        0|             1|                     1|              0|    0|\n",
      "|1000083|                 35|          9|       1|         1|           551|            45|             0|              501|                       8|                   8|                21|           21|             14|            2|               3|                  6|                5|                      1|             0|                        0|             0|                     0|              1|    1|\n",
      "|1000103|                 60|          5|       0|         1|            87|             8|             0|               72|                       1|                   3|                 4|            8|              2|            1|               1|                  0|                0|                      1|             0|                        0|             0|                     0|              0|    0|\n",
      "|1000164|                110|         18|       0|         1|          1080|            82|             1|              966|                      27|                  20|                42|           43|             11|            4|               1|                 20|                5|                      1|             4|                        0|             1|                     1|              0|    0|\n",
      "+-------+-------------------+-----------+--------+----------+--------------+--------------+--------------+-----------------+------------------------+--------------------+------------------+-------------+---------------+-------------+----------------+-------------------+-----------------+-----------------------+--------------+-------------------------+--------------+----------------------+---------------+-----+\n",
      "only showing top 5 rows"
     ]
    }
   ],
   "source": [
    "df.sort(\"userId\").show(5)"
   ]
  },
  {
   "cell_type": "markdown",
   "id": "06a6fdd1",
   "metadata": {},
   "source": [
    "## machine learning section\n",
    "### Split In Test And Train Dataset"
   ]
  },
  {
   "cell_type": "code",
   "execution_count": 17,
   "id": "84530fdc",
   "metadata": {},
   "outputs": [
    {
     "data": {
      "application/vnd.jupyter.widget-view+json": {
       "model_id": "a51de60e6d554e78bcb0711c85b1199d",
       "version_major": 2,
       "version_minor": 0
      },
      "text/plain": [
       "VBox()"
      ]
     },
     "metadata": {},
     "output_type": "display_data"
    },
    {
     "data": {
      "application/vnd.jupyter.widget-view+json": {
       "model_id": "",
       "version_major": 2,
       "version_minor": 0
      },
      "text/plain": [
       "FloatProgress(value=0.0, bar_style='info', description='Progress:', layout=Layout(height='25px', width='50%'),…"
      ]
     },
     "metadata": {},
     "output_type": "display_data"
    },
    {
     "name": "stdout",
     "output_type": "stream",
     "text": [
      "Training Dataset Count: 17775\n",
      "Test Dataset Count: 4502"
     ]
    }
   ],
   "source": [
    "#Split the data\n",
    "(training_data, test_data) = df.randomSplit([0.8,0.2], seed = 42)\n",
    "print(\"Training Dataset Count: \" + str(training_data.count()))\n",
    "print(\"Test Dataset Count: \" + str(test_data.count()))"
   ]
  },
  {
   "cell_type": "markdown",
   "id": "ce86f310",
   "metadata": {},
   "source": [
    "### Setting up ML Pipeline"
   ]
  },
  {
   "cell_type": "code",
   "execution_count": 18,
   "id": "c5fbdbbf",
   "metadata": {},
   "outputs": [
    {
     "data": {
      "application/vnd.jupyter.widget-view+json": {
       "model_id": "011b26889e324d818969a9c9880914bc",
       "version_major": 2,
       "version_minor": 0
      },
      "text/plain": [
       "VBox()"
      ]
     },
     "metadata": {},
     "output_type": "display_data"
    },
    {
     "data": {
      "application/vnd.jupyter.widget-view+json": {
       "model_id": "",
       "version_major": 2,
       "version_minor": 0
      },
      "text/plain": [
       "FloatProgress(value=0.0, bar_style='info', description='Progress:', layout=Layout(height='25px', width='50%'),…"
      ]
     },
     "metadata": {},
     "output_type": "display_data"
    },
    {
     "name": "stdout",
     "output_type": "stream",
     "text": [
      "Feature overview: ['max_membership_days', 'active_days', 'gender_m', 'level_paid', 'sum_status_200', 'sum_status_307', 'sum_status_404', 'sum_page_nextsong', 'sum_page_add_to_playlist', 'sum_page_roll_advert', 'sum_page_thumbs_up', 'sum_page_home', 'sum_page_logout', 'sum_page_help', 'sum_page_upgrade', 'sum_page_add_friend', 'sum_page_settings', 'sum_page_submit_upgrade', 'sum_page_about', 'sum_page_submit_downgrade', 'sum_page_error', 'sum_page_save_settings']"
     ]
    }
   ],
   "source": [
    "#definition of features\n",
    "input_cols=df.columns[1:-2]\n",
    "print('Feature overview:',input_cols)\n",
    "\n",
    "#Configure an ML pipeline, which consists of three stages: assemble, normalize, estimator\n",
    "assembler = VectorAssembler(inputCols=input_cols, outputCol='features')\n",
    "\n",
    "scaler = StandardScaler(inputCol=\"features\", outputCol=\"ScaledFeatures\", withMean=True, withStd=True) \n",
    "\n",
    "rf = RandomForestClassifier(labelCol=\"churn\", \n",
    "                            featuresCol=\"ScaledFeatures\")\n",
    "dt = DecisionTreeClassifier(featuresCol = \"ScaledFeatures\", \n",
    "                            labelCol = \"churn\")\n",
    "\n",
    "pipeline_rf=Pipeline(stages=[assembler, scaler, rf])\n",
    "pipeline_dt=Pipeline(stages=[assembler, scaler, dt])"
   ]
  },
  {
   "cell_type": "markdown",
   "id": "aaa15888",
   "metadata": {},
   "source": [
    "### decision tree classifier"
   ]
  },
  {
   "cell_type": "code",
   "execution_count": 20,
   "id": "cf6ff1f5",
   "metadata": {},
   "outputs": [
    {
     "data": {
      "application/vnd.jupyter.widget-view+json": {
       "model_id": "766674e15495445f967f8695d2e63524",
       "version_major": 2,
       "version_minor": 0
      },
      "text/plain": [
       "VBox()"
      ]
     },
     "metadata": {},
     "output_type": "display_data"
    },
    {
     "data": {
      "application/vnd.jupyter.widget-view+json": {
       "model_id": "",
       "version_major": 2,
       "version_minor": 0
      },
      "text/plain": [
       "FloatProgress(value=0.0, bar_style='info', description='Progress:', layout=Layout(height='25px', width='50%'),…"
      ]
     },
     "metadata": {},
     "output_type": "display_data"
    },
    {
     "name": "stdout",
     "output_type": "stream",
     "text": [
      "Accuracy: 0.8218569524655709\n",
      "Precision: 0.7478108581436077\n",
      "F1-Score: 0.5157004830917875\n",
      "Recall: 0.3935483870967742\n",
      "\n",
      " Confusion Matrix \n",
      "\n",
      "TRUE_NEGATIVE:3273.0 \t FALSE_POSITIVE:144.0\n",
      "FALSE_NEGATIVE:658.0 \t TRUE_POSITIVE: 427.0"
     ]
    }
   ],
   "source": [
    "#Fit Decision Tree Classifier to training data and transform test data\n",
    "model_dt = pipeline_dt.fit(training_data)\n",
    "dt_predictions = model_dt.transform(test_data)\n",
    "#Determine accuracy, f1, and precision of prediction\n",
    "model_evaluator(dt_predictions)"
   ]
  },
  {
   "cell_type": "code",
   "execution_count": 21,
   "id": "4098dd30",
   "metadata": {},
   "outputs": [
    {
     "data": {
      "application/vnd.jupyter.widget-view+json": {
       "model_id": "de00ea350bd44a048a6970f887110ed7",
       "version_major": 2,
       "version_minor": 0
      },
      "text/plain": [
       "VBox()"
      ]
     },
     "metadata": {},
     "output_type": "display_data"
    },
    {
     "data": {
      "application/vnd.jupyter.widget-view+json": {
       "model_id": "",
       "version_major": 2,
       "version_minor": 0
      },
      "text/plain": [
       "FloatProgress(value=0.0, bar_style='info', description='Progress:', layout=Layout(height='25px', width='50%'),…"
      ]
     },
     "metadata": {},
     "output_type": "display_data"
    },
    {
     "name": "stdout",
     "output_type": "stream",
     "text": [
      "                     Features  Importance\n",
      "0         max_membership_days    0.806115\n",
      "1           sum_page_settings    0.072764\n",
      "2                 active_days    0.049326\n",
      "3        sum_page_roll_advert    0.045484\n",
      "4              sum_status_200    0.013333\n",
      "5               sum_page_home    0.005393\n",
      "6               sum_page_help    0.003053\n",
      "7             sum_page_logout    0.002348\n",
      "8    sum_page_add_to_playlist    0.002183\n",
      "9              sum_status_404    0.000000\n",
      "10          sum_page_nextsong    0.000000\n",
      "11             sum_status_307    0.000000\n",
      "12         sum_page_thumbs_up    0.000000\n",
      "13                 level_paid    0.000000\n",
      "14           sum_page_upgrade    0.000000\n",
      "15        sum_page_add_friend    0.000000\n",
      "16                   gender_m    0.000000\n",
      "17    sum_page_submit_upgrade    0.000000\n",
      "18             sum_page_about    0.000000\n",
      "19  sum_page_submit_downgrade    0.000000\n",
      "20             sum_page_error    0.000000\n",
      "21     sum_page_save_settings    0.000000"
     ]
    }
   ],
   "source": [
    "importances_dt = model_dt.stages[-1].featureImportances.toArray()\n",
    "feature_ranking_dt=pd.DataFrame(data={'Features': np.array(input_cols),'Importance':importances_dt})\\\n",
    "                    .sort_values('Importance', ascending=False).reset_index(drop=True)\n",
    "feature_ranking_dt"
   ]
  },
  {
   "cell_type": "markdown",
   "id": "6b9bee5b",
   "metadata": {},
   "source": [
    "### random forest classifier"
   ]
  },
  {
   "cell_type": "code",
   "execution_count": 24,
   "id": "f41fee94",
   "metadata": {},
   "outputs": [
    {
     "data": {
      "application/vnd.jupyter.widget-view+json": {
       "model_id": "6cae58a306f741c2b95ddb742ab03d0c",
       "version_major": 2,
       "version_minor": 0
      },
      "text/plain": [
       "VBox()"
      ]
     },
     "metadata": {},
     "output_type": "display_data"
    },
    {
     "data": {
      "application/vnd.jupyter.widget-view+json": {
       "model_id": "",
       "version_major": 2,
       "version_minor": 0
      },
      "text/plain": [
       "FloatProgress(value=0.0, bar_style='info', description='Progress:', layout=Layout(height='25px', width='50%'),…"
      ]
     },
     "metadata": {},
     "output_type": "display_data"
    },
    {
     "name": "stdout",
     "output_type": "stream",
     "text": [
      "Accuracy: 0.8163038649489116\n",
      "Precision: 0.8086124401913876\n",
      "F1-Score: 0.44976713240186295\n",
      "Recall: 0.31152073732718893\n",
      "\n",
      " Confusion Matrix \n",
      "\n",
      "TRUE_NEGATIVE:3337.0 \t FALSE_POSITIVE:80.0\n",
      "FALSE_NEGATIVE:747.0 \t TRUE_POSITIVE: 338.0"
     ]
    }
   ],
   "source": [
    "#Fit Random Forest Classifier to training data and transform test data\n",
    "model_rf = pipeline_rf.fit(training_data)\n",
    "rf_predictions = model_rf.transform(test_data)\n",
    "\n",
    "#Determine accuracy, f1, and precision of prediction\n",
    "model_evaluator(rf_predictions)"
   ]
  },
  {
   "cell_type": "code",
   "execution_count": 25,
   "id": "dcf78048",
   "metadata": {},
   "outputs": [
    {
     "data": {
      "application/vnd.jupyter.widget-view+json": {
       "model_id": "7ab98f014d334022b1a9624f82d70b13",
       "version_major": 2,
       "version_minor": 0
      },
      "text/plain": [
       "VBox()"
      ]
     },
     "metadata": {},
     "output_type": "display_data"
    },
    {
     "data": {
      "application/vnd.jupyter.widget-view+json": {
       "model_id": "",
       "version_major": 2,
       "version_minor": 0
      },
      "text/plain": [
       "FloatProgress(value=0.0, bar_style='info', description='Progress:', layout=Layout(height='25px', width='50%'),…"
      ]
     },
     "metadata": {},
     "output_type": "display_data"
    },
    {
     "name": "stdout",
     "output_type": "stream",
     "text": [
      "                     Features  Importance\n",
      "0         max_membership_days    0.742850\n",
      "1        sum_page_roll_advert    0.052942\n",
      "2                 active_days    0.043147\n",
      "3              sum_status_200    0.025373\n",
      "4                  level_paid    0.021159\n",
      "5           sum_page_nextsong    0.019594\n",
      "6             sum_page_logout    0.018473\n",
      "7           sum_page_settings    0.013851\n",
      "8          sum_page_thumbs_up    0.013340\n",
      "9               sum_page_home    0.011949\n",
      "10             sum_status_307    0.009380\n",
      "11   sum_page_add_to_playlist    0.005932\n",
      "12    sum_page_submit_upgrade    0.005595\n",
      "13        sum_page_add_friend    0.004801\n",
      "14             sum_page_about    0.002794\n",
      "15           sum_page_upgrade    0.002171\n",
      "16             sum_page_error    0.001988\n",
      "17              sum_page_help    0.001798\n",
      "18  sum_page_submit_downgrade    0.001643\n",
      "19             sum_status_404    0.000568\n",
      "20     sum_page_save_settings    0.000381\n",
      "21                   gender_m    0.000267"
     ]
    }
   ],
   "source": [
    "#rank features\n",
    "importances_rf = model_rf.stages[-1].featureImportances.toArray()\n",
    "feature_ranking_rf=pd.DataFrame(data={'Features': np.array(input_cols),'Importance':importances_rf})\\\n",
    "                    .sort_values('Importance', ascending=False).reset_index(drop=True)\n",
    "feature_ranking_rf"
   ]
  },
  {
   "cell_type": "markdown",
   "id": "5adc76bb",
   "metadata": {},
   "source": [
    "# Hyperparameter Tuning Via CrossValidator"
   ]
  },
  {
   "cell_type": "markdown",
   "id": "32cbb5fd",
   "metadata": {},
   "source": [
    "### Random Forest Classifier - setting up parameter space"
   ]
  },
  {
   "cell_type": "code",
   "execution_count": 19,
   "id": "c6a905af",
   "metadata": {},
   "outputs": [
    {
     "data": {
      "application/vnd.jupyter.widget-view+json": {
       "model_id": "f9b59bb0885b4712b109ff173cd75858",
       "version_major": 2,
       "version_minor": 0
      },
      "text/plain": [
       "VBox()"
      ]
     },
     "metadata": {},
     "output_type": "display_data"
    },
    {
     "data": {
      "application/vnd.jupyter.widget-view+json": {
       "model_id": "",
       "version_major": 2,
       "version_minor": 0
      },
      "text/plain": [
       "FloatProgress(value=0.0, bar_style='info', description='Progress:', layout=Layout(height='25px', width='50%'),…"
      ]
     },
     "metadata": {},
     "output_type": "display_data"
    }
   ],
   "source": [
    "paramGrid = ParamGridBuilder() \\\n",
    "    .addGrid(rf.maxBins, [20, 30]) \\\n",
    "    .addGrid(rf.maxDepth, [5, 6]) \\\n",
    "    .addGrid(rf.numTrees, [30, 40]) \\\n",
    "    .build()\n",
    "\n",
    "crossval_rf = CrossValidator(estimator=pipeline_rf,\n",
    "                          estimatorParamMaps=paramGrid,\n",
    "                          evaluator=MulticlassClassificationEvaluator(labelCol = \"churn\", metricName = 'f1'),\n",
    "                          numFolds=3)  # use 3+ folds in practice\n",
    "\n",
    "# Run cross-validation, and choose the best set of parameters.\n",
    "cvModel_rf = crossval_rf.fit(training_data)\n",
    "prediction_rf = cvModel_rf.transform(test_data)"
   ]
  },
  {
   "cell_type": "markdown",
   "id": "b355992f",
   "metadata": {},
   "source": [
    "### Create Report Of Performance"
   ]
  },
  {
   "cell_type": "code",
   "execution_count": 23,
   "id": "299e9a1f",
   "metadata": {},
   "outputs": [
    {
     "data": {
      "application/vnd.jupyter.widget-view+json": {
       "model_id": "ead6f105d646437aaa173805d7cc0602",
       "version_major": 2,
       "version_minor": 0
      },
      "text/plain": [
       "VBox()"
      ]
     },
     "metadata": {},
     "output_type": "display_data"
    },
    {
     "data": {
      "application/vnd.jupyter.widget-view+json": {
       "model_id": "",
       "version_major": 2,
       "version_minor": 0
      },
      "text/plain": [
       "FloatProgress(value=0.0, bar_style='info', description='Progress:', layout=Layout(height='25px', width='50%'),…"
      ]
     },
     "metadata": {},
     "output_type": "display_data"
    },
    {
     "name": "stdout",
     "output_type": "stream",
     "text": [
      "         f1  maxBins  maxDepth  numTrees\n",
      "0  0.797160       20         5        30\n",
      "1  0.799783       20         5        40\n",
      "2  0.802508       20         6        30\n",
      "3  0.803834       20         6        40\n",
      "4  0.800993       30         5        30\n",
      "5  0.802211       30         5        40\n",
      "6  0.807227       30         6        30\n",
      "7  0.807959       30         6        40"
     ]
    }
   ],
   "source": [
    "#Show results for all model parameters\n",
    "params_rf_cv = [{p.name: v for p, v in m.items()} for m in cvModel_rf.getEstimatorParamMaps()]\n",
    "results_rf_cv=pd.DataFrame.from_dict([\n",
    "    {cvModel_rf.getEvaluator().getMetricName(): metric, **ps} \n",
    "    for ps, metric in zip(params_rf_cv, cvModel_rf.avgMetrics)\n",
    "])\n",
    "\n",
    "results_rf_cv"
   ]
  },
  {
   "cell_type": "code",
   "execution_count": 21,
   "id": "e77e28f6",
   "metadata": {},
   "outputs": [
    {
     "data": {
      "application/vnd.jupyter.widget-view+json": {
       "model_id": "7b5059724294404e81512814f29c70d2",
       "version_major": 2,
       "version_minor": 0
      },
      "text/plain": [
       "VBox()"
      ]
     },
     "metadata": {},
     "output_type": "display_data"
    },
    {
     "data": {
      "application/vnd.jupyter.widget-view+json": {
       "model_id": "",
       "version_major": 2,
       "version_minor": 0
      },
      "text/plain": [
       "FloatProgress(value=0.0, bar_style='info', description='Progress:', layout=Layout(height='25px', width='50%'),…"
      ]
     },
     "metadata": {},
     "output_type": "display_data"
    },
    {
     "name": "stdout",
     "output_type": "stream",
     "text": [
      "Accuracy: 0.8254109284762328\n",
      "Precision: 0.8271334792122538\n",
      "F1-Score: 0.49027237354085607\n",
      "Recall: 0.34838709677419355\n",
      "\n",
      " Confusion Matrix \n",
      "\n",
      "TRUE_NEGATIVE:3338.0 \t FALSE_POSITIVE:79.0\n",
      "FALSE_NEGATIVE:707.0 \t TRUE_POSITIVE: 378.0"
     ]
    }
   ],
   "source": [
    "# check best model performance\n",
    "model_evaluator(prediction_rf)"
   ]
  },
  {
   "cell_type": "code",
   "execution_count": 22,
   "id": "f1ebfc8e",
   "metadata": {},
   "outputs": [
    {
     "data": {
      "application/vnd.jupyter.widget-view+json": {
       "model_id": "281a4ff3315744028988c31c1870616c",
       "version_major": 2,
       "version_minor": 0
      },
      "text/plain": [
       "VBox()"
      ]
     },
     "metadata": {},
     "output_type": "display_data"
    },
    {
     "data": {
      "application/vnd.jupyter.widget-view+json": {
       "model_id": "",
       "version_major": 2,
       "version_minor": 0
      },
      "text/plain": [
       "FloatProgress(value=0.0, bar_style='info', description='Progress:', layout=Layout(height='25px', width='50%'),…"
      ]
     },
     "metadata": {},
     "output_type": "display_data"
    },
    {
     "name": "stdout",
     "output_type": "stream",
     "text": [
      "                     Features  Importance\n",
      "0         max_membership_days    0.704152\n",
      "1                 active_days    0.056557\n",
      "2        sum_page_roll_advert    0.053258\n",
      "3               sum_page_home    0.022783\n",
      "4          sum_page_thumbs_up    0.019508\n",
      "5             sum_page_logout    0.016715\n",
      "6              sum_status_307    0.016213\n",
      "7           sum_page_nextsong    0.016152\n",
      "8              sum_status_200    0.016103\n",
      "9           sum_page_settings    0.015634\n",
      "10                 level_paid    0.015213\n",
      "11        sum_page_add_friend    0.011751\n",
      "12   sum_page_add_to_playlist    0.008344\n",
      "13    sum_page_submit_upgrade    0.007886\n",
      "14              sum_page_help    0.006186\n",
      "15           sum_page_upgrade    0.003344\n",
      "16             sum_page_error    0.002107\n",
      "17     sum_page_save_settings    0.001933\n",
      "18             sum_status_404    0.001882\n",
      "19             sum_page_about    0.001821\n",
      "20  sum_page_submit_downgrade    0.001691\n",
      "21                   gender_m    0.000770"
     ]
    }
   ],
   "source": [
    "#rank features of best model\n",
    "importances_rf_cv = cvModel_rf.bestModel.stages[-1].featureImportances.toArray()\n",
    "feature_ranking_rf_cv=pd.DataFrame(data={'Features': np.array(input_cols),'Importance':importances_rf_cv})\\\n",
    "                    .sort_values('Importance', ascending=False).reset_index(drop=True)\n",
    "feature_ranking_rf_cv"
   ]
  }
 ],
 "metadata": {
  "kernelspec": {
   "display_name": "PySpark",
   "language": "",
   "name": "pysparkkernel"
  },
  "language_info": {
   "codemirror_mode": {
    "name": "python",
    "version": 3
   },
   "mimetype": "text/x-python",
   "name": "pyspark",
   "pygments_lexer": "python3"
  }
 },
 "nbformat": 4,
 "nbformat_minor": 5
}
