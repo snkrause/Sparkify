{
 "cells": [
  {
   "cell_type": "markdown",
   "metadata": {},
   "source": [
    "# Prediction Of Churn"
   ]
  },
  {
   "cell_type": "markdown",
   "metadata": {},
   "source": [
    "## Preparing Data\n",
    "### Import Of All Libraries"
   ]
  },
  {
   "cell_type": "code",
   "execution_count": 1,
   "metadata": {},
   "outputs": [],
   "source": [
    "from pyspark.sql import SparkSession\n",
    "import pyspark.sql.functions as F\n",
    "from pyspark.sql.types import StringType\n",
    "from pyspark.sql.types import IntegerType\n",
    "from pyspark.sql.functions import desc\n",
    "from pyspark.sql.functions import asc, count, countDistinct\n",
    "from pyspark.sql.functions import sum as Fsum\n",
    "from pyspark.sql.functions import mean as Fmean\n",
    "from pyspark.sql.functions import round as Fround\n",
    "from pyspark.sql.functions import max as Fmax\n",
    "from pyspark.sql.functions import col\n",
    "\n",
    "import datetime\n",
    "\n",
    "import numpy as np\n",
    "import pandas as pd\n",
    "import seaborn as sns\n",
    "import matplotlib.pyplot as plt"
   ]
  },
  {
   "cell_type": "markdown",
   "metadata": {},
   "source": [
    "### Initiate Spark Session"
   ]
  },
  {
   "cell_type": "code",
   "execution_count": 2,
   "metadata": {},
   "outputs": [],
   "source": [
    "spark = SparkSession \\\n",
    "    .builder \\\n",
    "    .appName(\"Sparkify_Data_Exploration\") \\\n",
    "    .getOrCreate()"
   ]
  },
  {
   "cell_type": "markdown",
   "metadata": {},
   "source": [
    "### Import Data"
   ]
  },
  {
   "cell_type": "code",
   "execution_count": 3,
   "metadata": {
    "scrolled": true
   },
   "outputs": [
    {
     "name": "stdout",
     "output_type": "stream",
     "text": [
      "initial dataframe has 286500 rows and 18 columns.\n"
     ]
    }
   ],
   "source": [
    "path = \"C:/Users/krs1bbh/OneDrive - Robert Bosch GmbH/Documents/udacity/Final/data/mini_sparkify_event_data.json\"\n",
    "user_log = spark.read.json(path)\n",
    "print(\"initial dataframe has\",user_log.count(),\"rows and\",len(user_log.columns),\"columns.\")"
   ]
  },
  {
   "cell_type": "markdown",
   "metadata": {},
   "source": [
    "## Preparing Data for ML"
   ]
  },
  {
   "cell_type": "markdown",
   "metadata": {},
   "source": [
    "### Clean Data"
   ]
  },
  {
   "cell_type": "code",
   "execution_count": 4,
   "metadata": {},
   "outputs": [
    {
     "name": "stdout",
     "output_type": "stream",
     "text": [
      "dataframe w/o empty userId's has 278154 rows and 18 columns.\n"
     ]
    }
   ],
   "source": [
    "#drop invalid (guest) userId's\n",
    "user_log = user_log.where(user_log.userId != \"\")\n",
    "print(\"dataframe w/o empty userId's has\",user_log.count(),\"rows and\",len(user_log.columns),\"columns.\")"
   ]
  },
  {
   "cell_type": "code",
   "execution_count": 5,
   "metadata": {},
   "outputs": [
    {
     "name": "stdout",
     "output_type": "stream",
     "text": [
      "dataframe w/o duplicates has 278154 rows and 18 columns.\n"
     ]
    }
   ],
   "source": [
    "#drop duplicate rows\n",
    "user_log = user_log.dropDuplicates()\n",
    "print(\"dataframe w/o duplicates has\",user_log.count(),\"rows and\",len(user_log.columns),\"columns.\")"
   ]
  },
  {
   "cell_type": "markdown",
   "metadata": {},
   "source": [
    "### create column with days since registration (membership days) and dummy relevant columns"
   ]
  },
  {
   "cell_type": "code",
   "execution_count": 6,
   "metadata": {},
   "outputs": [],
   "source": [
    "user_log=user_log.withColumn(\"membership_days\", Fround((col('ts')/1000-col('registration')/1000)/86400).cast(IntegerType()))"
   ]
  },
  {
   "cell_type": "code",
   "execution_count": 7,
   "metadata": {},
   "outputs": [],
   "source": [
    "column_list=['auth','gender','level','status','page']"
   ]
  },
  {
   "cell_type": "code",
   "execution_count": 8,
   "metadata": {},
   "outputs": [],
   "source": [
    "cols_add=[]\n",
    "for column in column_list:\n",
    "    categories = user_log.select(column).distinct().rdd.flatMap(lambda x: x).collect()\n",
    "    cols_add = cols_add + [F.when(F.col(column) == cat, 1).otherwise(0).alias(column + \"_\" + str(cat).replace(\" \",\"_\")) for cat in categories]"
   ]
  },
  {
   "cell_type": "code",
   "execution_count": 9,
   "metadata": {},
   "outputs": [
    {
     "name": "stdout",
     "output_type": "stream",
     "text": [
      "root\n",
      " |-- userId: string (nullable = true)\n",
      " |-- membership_days: integer (nullable = true)\n",
      " |-- auth_Cancelled: integer (nullable = false)\n",
      " |-- auth_Logged_In: integer (nullable = false)\n",
      " |-- gender_F: integer (nullable = false)\n",
      " |-- gender_M: integer (nullable = false)\n",
      " |-- level_free: integer (nullable = false)\n",
      " |-- level_paid: integer (nullable = false)\n",
      " |-- status_307: integer (nullable = false)\n",
      " |-- status_404: integer (nullable = false)\n",
      " |-- status_200: integer (nullable = false)\n",
      " |-- page_Cancel: integer (nullable = false)\n",
      " |-- page_Submit_Downgrade: integer (nullable = false)\n",
      " |-- page_Thumbs_Down: integer (nullable = false)\n",
      " |-- page_Home: integer (nullable = false)\n",
      " |-- page_Downgrade: integer (nullable = false)\n",
      " |-- page_Roll_Advert: integer (nullable = false)\n",
      " |-- page_Logout: integer (nullable = false)\n",
      " |-- page_Save_Settings: integer (nullable = false)\n",
      " |-- page_Cancellation_Confirmation: integer (nullable = false)\n",
      " |-- page_About: integer (nullable = false)\n",
      " |-- page_Settings: integer (nullable = false)\n",
      " |-- page_Add_to_Playlist: integer (nullable = false)\n",
      " |-- page_Add_Friend: integer (nullable = false)\n",
      " |-- page_NextSong: integer (nullable = false)\n",
      " |-- page_Thumbs_Up: integer (nullable = false)\n",
      " |-- page_Help: integer (nullable = false)\n",
      " |-- page_Upgrade: integer (nullable = false)\n",
      " |-- page_Error: integer (nullable = false)\n",
      " |-- page_Submit_Upgrade: integer (nullable = false)\n",
      "\n"
     ]
    }
   ],
   "source": [
    "user_log_features =user_log.select(\"userId\",\"membership_days\",*cols_add)\n",
    "user_log_features.printSchema()"
   ]
  },
  {
   "cell_type": "code",
   "execution_count": 10,
   "metadata": {
    "scrolled": true
   },
   "outputs": [
    {
     "name": "stdout",
     "output_type": "stream",
     "text": [
      "dataframe has 278154 rows and 30 columns.\n"
     ]
    }
   ],
   "source": [
    "print(\"dataframe has\",user_log_features.count(),\"rows and\",len(user_log_features.columns),\"columns.\")"
   ]
  },
  {
   "cell_type": "markdown",
   "metadata": {},
   "source": [
    "### Aggregate Data By \"userId\" To Prepare For ML"
   ]
  },
  {
   "cell_type": "code",
   "execution_count": 11,
   "metadata": {},
   "outputs": [],
   "source": [
    "df=user_log_features\\\n",
    "        .groupBy(\"userId\") \\\n",
    "        .agg( \\\n",
    "             Fmax(\"membership_days\").alias(\"max_membership_days\"), \\\n",
    "             countDistinct(\"membership_days\").alias(\"active_days\"), \\\n",
    "             Fmax(\"gender_m\").alias(\"gender_m\"), \\\n",
    "             Fmax(\"level_paid\").alias(\"level_paid\"), \\\n",
    "             Fsum(\"status_200\").alias(\"sum_status_200\"), \\\n",
    "             Fsum(\"status_307\").alias(\"sum_status_307\"), \\\n",
    "             Fsum(\"status_404\").alias(\"sum_status_404\"), \\\n",
    "             Fsum(\"page_nextsong\").alias(\"sum_page_nextsong\"), \\\n",
    "             Fsum(\"page_add_to_playlist\").alias(\"sum_page_add_to_playlist\"), \\\n",
    "             Fsum(\"page_roll_advert\").alias(\"sum_page_roll_advert\"), \\\n",
    "             Fsum(\"page_thumbs_up\").alias(\"sum_page_thumbs_up\"), \\\n",
    "             Fsum(\"page_home\").alias(\"sum_page_home\"), \\\n",
    "             Fsum(\"page_logout\").alias(\"sum_page_logout\"), \\\n",
    "             Fsum(\"page_help\").alias(\"sum_page_help\"), \\\n",
    "             Fsum(\"page_upgrade\").alias(\"sum_page_upgrade\"), \\\n",
    "             Fsum(\"page_add_friend\").alias(\"sum_page_add_friend\"), \\\n",
    "             Fsum(\"page_settings\").alias(\"sum_page_settings\"), \\\n",
    "             Fsum(\"page_submit_upgrade\").alias(\"sum_page_submit_upgrade\"), \\\n",
    "             Fsum(\"page_about\").alias(\"sum_page_about\"), \\\n",
    "             Fsum(\"page_submit_downgrade\").alias(\"sum_page_submit_downgrade\"), \\\n",
    "             Fsum(\"page_error\").alias(\"sum_page_error\"), \\\n",
    "             Fsum(\"page_save_settings\").alias(\"sum_page_save_settings\"), \\\n",
    "             Fsum(\"page_cancel\").alias(\"sum_page_cancel\"), \\\n",
    "             Fsum(\"page_cancellation_confirmation\").alias(\"churn\") \\\n",
    "             )"
   ]
  },
  {
   "cell_type": "code",
   "execution_count": 12,
   "metadata": {
    "scrolled": false
   },
   "outputs": [
    {
     "name": "stdout",
     "output_type": "stream",
     "text": [
      "dataframe 'df' has 225 rows and 25 columns.\n"
     ]
    }
   ],
   "source": [
    "print(\"dataframe 'df' has\",df.count(),\"rows and\",len(df.columns),\"columns.\")"
   ]
  },
  {
   "cell_type": "markdown",
   "metadata": {},
   "source": [
    "## Machine Learning section"
   ]
  },
  {
   "cell_type": "code",
   "execution_count": 13,
   "metadata": {},
   "outputs": [],
   "source": [
    "from pyspark.ml import Pipeline\n",
    "from pyspark.ml.feature import VectorAssembler, Normalizer, StandardScaler\n",
    "from pyspark.ml.classification import RandomForestClassifier, DecisionTreeClassifier\n",
    "from pyspark.ml.evaluation import MulticlassClassificationEvaluator\n",
    "from pyspark.mllib.evaluation import MulticlassMetrics\n",
    "from pyspark.ml.tuning import CrossValidator, ParamGridBuilder\n",
    "\n",
    "def model_evaluator(results):\n",
    "    \"\"\"\n",
    "    This function calculates the true/false positive/negative prediction from the predicted test dataset.\n",
    "    Those are then used to calculate the model evaluation metrics and a confusion matrix.\n",
    "    \n",
    "    INPUT:\n",
    "    results: test-dataset including the prediction column\n",
    "    \n",
    "    OUTPUT:\n",
    "    standard metrics for model evaluation and a confusion matrix\n",
    "    \"\"\"\n",
    "    \n",
    "    #extract right and wrong predicted values and count their numbers \n",
    "    true_negative = results.filter((results.prediction == 0)&(results.churn==0)).count() * 1.0 \n",
    "    false_positive = results.filter((results.prediction == 1)&(results.churn==0)).count() * 1.0 \n",
    "    false_negative = results.filter((results.prediction == 0)&(results.churn==1)).count() * 1.0 \n",
    "    true_positive = results.filter((results.prediction == 1)&(results.churn==1)).count() * 1.0 \n",
    "    \n",
    "    #calculate standard measures for evaluating the model\n",
    "    accuracy = (true_positive+true_negative)/(true_negative+false_positive+false_negative+true_positive)\n",
    "    precision = true_positive/(true_positive+false_positive)\n",
    "    recall = true_positive/(true_positive+false_negative)\n",
    "    f1 = 2.0 * (precision * recall)/(precision + recall)\n",
    "    \n",
    "    #\n",
    "    print(\"Accuracy: {}\".format(accuracy))\n",
    "    print(\"Precision: {}\".format(precision))\n",
    "    print(\"F1-Score: {}\".format(f1))\n",
    "    print(\"Recall: {}\".format(recall))\n",
    "    \n",
    "    #create confusion matrix to illustrate model quality\n",
    "    print(\"\\n Confusion Matrix \\n\")\n",
    "    print(\"TRUE_NEGATIVE:{} \t FALSE_POSITIVE:{}\".format(true_negative,false_positive))\n",
    "    print(\"FALSE_NEGATIVE:{} \t TRUE_POSITIVE: {}\".format(false_negative, true_positive))"
   ]
  },
  {
   "cell_type": "markdown",
   "metadata": {},
   "source": [
    "### Split In Test And Train Dataset"
   ]
  },
  {
   "cell_type": "code",
   "execution_count": 14,
   "metadata": {
    "scrolled": true
   },
   "outputs": [
    {
     "name": "stdout",
     "output_type": "stream",
     "text": [
      "Training Dataset Count: 191\n",
      "Test Dataset Count: 34\n"
     ]
    }
   ],
   "source": [
    "#Split the data\n",
    "(training_data, test_data) = df.randomSplit([0.8,0.2], seed = 42)\n",
    "print(\"Training Dataset Count: \" + str(training_data.count()))\n",
    "print(\"Test Dataset Count: \" + str(test_data.count()))"
   ]
  },
  {
   "cell_type": "markdown",
   "metadata": {},
   "source": [
    "### Setting up ML Pipeline"
   ]
  },
  {
   "cell_type": "code",
   "execution_count": 15,
   "metadata": {
    "scrolled": true
   },
   "outputs": [
    {
     "name": "stdout",
     "output_type": "stream",
     "text": [
      "Feature overview: ['max_membership_days', 'active_days', 'gender_m', 'level_paid', 'sum_status_200', 'sum_status_307', 'sum_status_404', 'sum_page_nextsong', 'sum_page_add_to_playlist', 'sum_page_roll_advert', 'sum_page_thumbs_up', 'sum_page_home', 'sum_page_logout', 'sum_page_help', 'sum_page_upgrade', 'sum_page_add_friend', 'sum_page_settings', 'sum_page_submit_upgrade', 'sum_page_about', 'sum_page_submit_downgrade', 'sum_page_error', 'sum_page_save_settings']\n"
     ]
    }
   ],
   "source": [
    "#definition of features\n",
    "input_cols=df.columns[1:-2]\n",
    "print('Feature overview:',input_cols)\n",
    "\n",
    "#Configure an ML pipeline, which consists of three stages: assemble, normalize, estimator\n",
    "assembler = VectorAssembler(inputCols=input_cols, outputCol='features')\n",
    "\n",
    "scaler = StandardScaler(inputCol=\"features\", outputCol=\"ScaledFeatures\", withMean=True, withStd=True) \n",
    "\n",
    "rf = RandomForestClassifier(labelCol=\"churn\", \n",
    "                            featuresCol=\"ScaledFeatures\")\n",
    "dt = DecisionTreeClassifier(featuresCol = \"ScaledFeatures\", \n",
    "                            labelCol = \"churn\")\n",
    "\n",
    "pipeline_rf=Pipeline(stages=[assembler, scaler, rf])\n",
    "pipeline_dt=Pipeline(stages=[assembler, scaler, dt])"
   ]
  },
  {
   "cell_type": "markdown",
   "metadata": {},
   "source": [
    "### Decision Tree Classifier"
   ]
  },
  {
   "cell_type": "code",
   "execution_count": 16,
   "metadata": {},
   "outputs": [],
   "source": [
    "#Fit Decision Tree Classifier to training data and transform test data\n",
    "model_dt = pipeline_dt.fit(training_data)\n",
    "dt_predictions = model_dt.transform(test_data)"
   ]
  },
  {
   "cell_type": "code",
   "execution_count": 17,
   "metadata": {},
   "outputs": [
    {
     "name": "stdout",
     "output_type": "stream",
     "text": [
      "Accuracy: 0.7352941176470589\n",
      "Precision: 0.42857142857142855\n",
      "F1-Score: 0.39999999999999997\n",
      "Recall: 0.375\n",
      "\n",
      " Confusion Matrix \n",
      "\n",
      "TRUE_NEGATIVE:22.0 \t FALSE_POSITIVE:4.0\n",
      "FALSE_NEGATIVE:5.0 \t TRUE_POSITIVE: 3.0\n"
     ]
    }
   ],
   "source": [
    "#Determine accuracy, f1, and precision of prediction\n",
    "model_evaluator(dt_predictions)"
   ]
  },
  {
   "cell_type": "code",
   "execution_count": 18,
   "metadata": {},
   "outputs": [
    {
     "data": {
      "text/html": [
       "<div>\n",
       "<style scoped>\n",
       "    .dataframe tbody tr th:only-of-type {\n",
       "        vertical-align: middle;\n",
       "    }\n",
       "\n",
       "    .dataframe tbody tr th {\n",
       "        vertical-align: top;\n",
       "    }\n",
       "\n",
       "    .dataframe thead th {\n",
       "        text-align: right;\n",
       "    }\n",
       "</style>\n",
       "<table border=\"1\" class=\"dataframe\">\n",
       "  <thead>\n",
       "    <tr style=\"text-align: right;\">\n",
       "      <th></th>\n",
       "      <th>Features</th>\n",
       "      <th>Importance</th>\n",
       "    </tr>\n",
       "  </thead>\n",
       "  <tbody>\n",
       "    <tr>\n",
       "      <th>0</th>\n",
       "      <td>max_membership_days</td>\n",
       "      <td>0.400418</td>\n",
       "    </tr>\n",
       "    <tr>\n",
       "      <th>1</th>\n",
       "      <td>sum_page_add_to_playlist</td>\n",
       "      <td>0.153633</td>\n",
       "    </tr>\n",
       "    <tr>\n",
       "      <th>2</th>\n",
       "      <td>sum_status_404</td>\n",
       "      <td>0.097254</td>\n",
       "    </tr>\n",
       "    <tr>\n",
       "      <th>3</th>\n",
       "      <td>sum_page_roll_advert</td>\n",
       "      <td>0.087234</td>\n",
       "    </tr>\n",
       "    <tr>\n",
       "      <th>4</th>\n",
       "      <td>active_days</td>\n",
       "      <td>0.074382</td>\n",
       "    </tr>\n",
       "    <tr>\n",
       "      <th>5</th>\n",
       "      <td>sum_page_about</td>\n",
       "      <td>0.074068</td>\n",
       "    </tr>\n",
       "    <tr>\n",
       "      <th>6</th>\n",
       "      <td>sum_page_logout</td>\n",
       "      <td>0.049393</td>\n",
       "    </tr>\n",
       "    <tr>\n",
       "      <th>7</th>\n",
       "      <td>sum_page_save_settings</td>\n",
       "      <td>0.036354</td>\n",
       "    </tr>\n",
       "    <tr>\n",
       "      <th>8</th>\n",
       "      <td>gender_m</td>\n",
       "      <td>0.027265</td>\n",
       "    </tr>\n",
       "    <tr>\n",
       "      <th>9</th>\n",
       "      <td>sum_page_nextsong</td>\n",
       "      <td>0.000000</td>\n",
       "    </tr>\n",
       "    <tr>\n",
       "      <th>10</th>\n",
       "      <td>sum_status_307</td>\n",
       "      <td>0.000000</td>\n",
       "    </tr>\n",
       "    <tr>\n",
       "      <th>11</th>\n",
       "      <td>sum_page_thumbs_up</td>\n",
       "      <td>0.000000</td>\n",
       "    </tr>\n",
       "    <tr>\n",
       "      <th>12</th>\n",
       "      <td>sum_status_200</td>\n",
       "      <td>0.000000</td>\n",
       "    </tr>\n",
       "    <tr>\n",
       "      <th>13</th>\n",
       "      <td>level_paid</td>\n",
       "      <td>0.000000</td>\n",
       "    </tr>\n",
       "    <tr>\n",
       "      <th>14</th>\n",
       "      <td>sum_page_help</td>\n",
       "      <td>0.000000</td>\n",
       "    </tr>\n",
       "    <tr>\n",
       "      <th>15</th>\n",
       "      <td>sum_page_upgrade</td>\n",
       "      <td>0.000000</td>\n",
       "    </tr>\n",
       "    <tr>\n",
       "      <th>16</th>\n",
       "      <td>sum_page_add_friend</td>\n",
       "      <td>0.000000</td>\n",
       "    </tr>\n",
       "    <tr>\n",
       "      <th>17</th>\n",
       "      <td>sum_page_settings</td>\n",
       "      <td>0.000000</td>\n",
       "    </tr>\n",
       "    <tr>\n",
       "      <th>18</th>\n",
       "      <td>sum_page_submit_upgrade</td>\n",
       "      <td>0.000000</td>\n",
       "    </tr>\n",
       "    <tr>\n",
       "      <th>19</th>\n",
       "      <td>sum_page_submit_downgrade</td>\n",
       "      <td>0.000000</td>\n",
       "    </tr>\n",
       "    <tr>\n",
       "      <th>20</th>\n",
       "      <td>sum_page_error</td>\n",
       "      <td>0.000000</td>\n",
       "    </tr>\n",
       "    <tr>\n",
       "      <th>21</th>\n",
       "      <td>sum_page_home</td>\n",
       "      <td>0.000000</td>\n",
       "    </tr>\n",
       "  </tbody>\n",
       "</table>\n",
       "</div>"
      ],
      "text/plain": [
       "                     Features  Importance\n",
       "0         max_membership_days    0.400418\n",
       "1    sum_page_add_to_playlist    0.153633\n",
       "2              sum_status_404    0.097254\n",
       "3        sum_page_roll_advert    0.087234\n",
       "4                 active_days    0.074382\n",
       "5              sum_page_about    0.074068\n",
       "6             sum_page_logout    0.049393\n",
       "7      sum_page_save_settings    0.036354\n",
       "8                    gender_m    0.027265\n",
       "9           sum_page_nextsong    0.000000\n",
       "10             sum_status_307    0.000000\n",
       "11         sum_page_thumbs_up    0.000000\n",
       "12             sum_status_200    0.000000\n",
       "13                 level_paid    0.000000\n",
       "14              sum_page_help    0.000000\n",
       "15           sum_page_upgrade    0.000000\n",
       "16        sum_page_add_friend    0.000000\n",
       "17          sum_page_settings    0.000000\n",
       "18    sum_page_submit_upgrade    0.000000\n",
       "19  sum_page_submit_downgrade    0.000000\n",
       "20             sum_page_error    0.000000\n",
       "21              sum_page_home    0.000000"
      ]
     },
     "execution_count": 18,
     "metadata": {},
     "output_type": "execute_result"
    }
   ],
   "source": [
    "importances_dt = model_dt.stages[-1].featureImportances.toArray()\n",
    "feature_ranking_dt=pd.DataFrame(data={'Features': np.array(input_cols),'Importance':importances_dt})\\\n",
    "                    .sort_values('Importance', ascending=False).reset_index(drop=True)\n",
    "feature_ranking_dt"
   ]
  },
  {
   "cell_type": "markdown",
   "metadata": {},
   "source": [
    "### Random Forest Classifier"
   ]
  },
  {
   "cell_type": "code",
   "execution_count": 19,
   "metadata": {},
   "outputs": [],
   "source": [
    "#Fit Random Forest Classifier to training data and transform test data\n",
    "model_rf = pipeline_rf.fit(training_data)\n",
    "rf_predictions = model_rf.transform(test_data)"
   ]
  },
  {
   "cell_type": "code",
   "execution_count": 20,
   "metadata": {
    "scrolled": true
   },
   "outputs": [
    {
     "name": "stdout",
     "output_type": "stream",
     "text": [
      "Accuracy: 0.8235294117647058\n",
      "Precision: 1.0\n",
      "F1-Score: 0.4\n",
      "Recall: 0.25\n",
      "\n",
      " Confusion Matrix \n",
      "\n",
      "TRUE_NEGATIVE:26.0 \t FALSE_POSITIVE:0.0\n",
      "FALSE_NEGATIVE:6.0 \t TRUE_POSITIVE: 2.0\n"
     ]
    }
   ],
   "source": [
    "#Determine accuracy, f1, and precision of prediction\n",
    "model_evaluator(rf_predictions)"
   ]
  },
  {
   "cell_type": "code",
   "execution_count": 21,
   "metadata": {},
   "outputs": [
    {
     "data": {
      "text/html": [
       "<div>\n",
       "<style scoped>\n",
       "    .dataframe tbody tr th:only-of-type {\n",
       "        vertical-align: middle;\n",
       "    }\n",
       "\n",
       "    .dataframe tbody tr th {\n",
       "        vertical-align: top;\n",
       "    }\n",
       "\n",
       "    .dataframe thead th {\n",
       "        text-align: right;\n",
       "    }\n",
       "</style>\n",
       "<table border=\"1\" class=\"dataframe\">\n",
       "  <thead>\n",
       "    <tr style=\"text-align: right;\">\n",
       "      <th></th>\n",
       "      <th>Features</th>\n",
       "      <th>Importance</th>\n",
       "    </tr>\n",
       "  </thead>\n",
       "  <tbody>\n",
       "    <tr>\n",
       "      <th>0</th>\n",
       "      <td>max_membership_days</td>\n",
       "      <td>0.231380</td>\n",
       "    </tr>\n",
       "    <tr>\n",
       "      <th>1</th>\n",
       "      <td>sum_page_nextsong</td>\n",
       "      <td>0.081799</td>\n",
       "    </tr>\n",
       "    <tr>\n",
       "      <th>2</th>\n",
       "      <td>sum_page_add_friend</td>\n",
       "      <td>0.070532</td>\n",
       "    </tr>\n",
       "    <tr>\n",
       "      <th>3</th>\n",
       "      <td>sum_page_logout</td>\n",
       "      <td>0.068933</td>\n",
       "    </tr>\n",
       "    <tr>\n",
       "      <th>4</th>\n",
       "      <td>active_days</td>\n",
       "      <td>0.062892</td>\n",
       "    </tr>\n",
       "    <tr>\n",
       "      <th>5</th>\n",
       "      <td>sum_page_add_to_playlist</td>\n",
       "      <td>0.053455</td>\n",
       "    </tr>\n",
       "    <tr>\n",
       "      <th>6</th>\n",
       "      <td>sum_status_307</td>\n",
       "      <td>0.048807</td>\n",
       "    </tr>\n",
       "    <tr>\n",
       "      <th>7</th>\n",
       "      <td>sum_status_200</td>\n",
       "      <td>0.048251</td>\n",
       "    </tr>\n",
       "    <tr>\n",
       "      <th>8</th>\n",
       "      <td>sum_page_about</td>\n",
       "      <td>0.048144</td>\n",
       "    </tr>\n",
       "    <tr>\n",
       "      <th>9</th>\n",
       "      <td>sum_page_settings</td>\n",
       "      <td>0.046050</td>\n",
       "    </tr>\n",
       "    <tr>\n",
       "      <th>10</th>\n",
       "      <td>sum_page_roll_advert</td>\n",
       "      <td>0.041770</td>\n",
       "    </tr>\n",
       "    <tr>\n",
       "      <th>11</th>\n",
       "      <td>sum_page_home</td>\n",
       "      <td>0.035011</td>\n",
       "    </tr>\n",
       "    <tr>\n",
       "      <th>12</th>\n",
       "      <td>sum_page_save_settings</td>\n",
       "      <td>0.034143</td>\n",
       "    </tr>\n",
       "    <tr>\n",
       "      <th>13</th>\n",
       "      <td>sum_page_thumbs_up</td>\n",
       "      <td>0.023343</td>\n",
       "    </tr>\n",
       "    <tr>\n",
       "      <th>14</th>\n",
       "      <td>sum_status_404</td>\n",
       "      <td>0.023010</td>\n",
       "    </tr>\n",
       "    <tr>\n",
       "      <th>15</th>\n",
       "      <td>sum_page_upgrade</td>\n",
       "      <td>0.022497</td>\n",
       "    </tr>\n",
       "    <tr>\n",
       "      <th>16</th>\n",
       "      <td>sum_page_help</td>\n",
       "      <td>0.019179</td>\n",
       "    </tr>\n",
       "    <tr>\n",
       "      <th>17</th>\n",
       "      <td>sum_page_submit_upgrade</td>\n",
       "      <td>0.016306</td>\n",
       "    </tr>\n",
       "    <tr>\n",
       "      <th>18</th>\n",
       "      <td>sum_page_error</td>\n",
       "      <td>0.012407</td>\n",
       "    </tr>\n",
       "    <tr>\n",
       "      <th>19</th>\n",
       "      <td>sum_page_submit_downgrade</td>\n",
       "      <td>0.006847</td>\n",
       "    </tr>\n",
       "    <tr>\n",
       "      <th>20</th>\n",
       "      <td>gender_m</td>\n",
       "      <td>0.004253</td>\n",
       "    </tr>\n",
       "    <tr>\n",
       "      <th>21</th>\n",
       "      <td>level_paid</td>\n",
       "      <td>0.000992</td>\n",
       "    </tr>\n",
       "  </tbody>\n",
       "</table>\n",
       "</div>"
      ],
      "text/plain": [
       "                     Features  Importance\n",
       "0         max_membership_days    0.231380\n",
       "1           sum_page_nextsong    0.081799\n",
       "2         sum_page_add_friend    0.070532\n",
       "3             sum_page_logout    0.068933\n",
       "4                 active_days    0.062892\n",
       "5    sum_page_add_to_playlist    0.053455\n",
       "6              sum_status_307    0.048807\n",
       "7              sum_status_200    0.048251\n",
       "8              sum_page_about    0.048144\n",
       "9           sum_page_settings    0.046050\n",
       "10       sum_page_roll_advert    0.041770\n",
       "11              sum_page_home    0.035011\n",
       "12     sum_page_save_settings    0.034143\n",
       "13         sum_page_thumbs_up    0.023343\n",
       "14             sum_status_404    0.023010\n",
       "15           sum_page_upgrade    0.022497\n",
       "16              sum_page_help    0.019179\n",
       "17    sum_page_submit_upgrade    0.016306\n",
       "18             sum_page_error    0.012407\n",
       "19  sum_page_submit_downgrade    0.006847\n",
       "20                   gender_m    0.004253\n",
       "21                 level_paid    0.000992"
      ]
     },
     "execution_count": 21,
     "metadata": {},
     "output_type": "execute_result"
    }
   ],
   "source": [
    "importances_rf = model_rf.stages[-1].featureImportances.toArray()\n",
    "feature_ranking_rf=pd.DataFrame(data={'Features': np.array(input_cols),'Importance':importances_rf})\\\n",
    "                    .sort_values('Importance', ascending=False).reset_index(drop=True)\n",
    "feature_ranking_rf"
   ]
  },
  {
   "cell_type": "markdown",
   "metadata": {},
   "source": [
    "# Hyperparameter Tuning Via CrossValidator"
   ]
  },
  {
   "cell_type": "code",
   "execution_count": 22,
   "metadata": {},
   "outputs": [],
   "source": [
    "from pyspark.ml.tuning import CrossValidator, ParamGridBuilder "
   ]
  },
  {
   "cell_type": "markdown",
   "metadata": {},
   "source": [
    "### Random Forest Classifier - setting up parameter space"
   ]
  },
  {
   "cell_type": "code",
   "execution_count": 23,
   "metadata": {},
   "outputs": [],
   "source": [
    "paramGrid = ParamGridBuilder() \\\n",
    "    .addGrid(rf.maxBins, [20, 30, 40]) \\\n",
    "    .addGrid(rf.maxDepth, [3, 4, 5, 6]) \\\n",
    "    .addGrid(rf.numTrees, [10, 20, 30]) \\\n",
    "    .addGrid(rf.impurity, ['gini','entropy']) \\\n",
    "    .build()\n",
    "\n",
    "crossval_rf = CrossValidator(estimator=pipeline_rf,\n",
    "                          estimatorParamMaps=paramGrid,\n",
    "                          evaluator=MulticlassClassificationEvaluator(labelCol = \"churn\", metricName = 'f1'),\n",
    "                          numFolds=3)  # use 3+ folds in practice\n",
    "\n",
    "# Run cross-validation, and choose the best set of parameters.\n",
    "cvModel_rf = crossval_rf.fit(training_data)\n",
    "prediction_rf = cvModel_rf.transform(test_data)"
   ]
  },
  {
   "cell_type": "markdown",
   "metadata": {},
   "source": [
    "### Create Report Of Performance"
   ]
  },
  {
   "cell_type": "code",
   "execution_count": 25,
   "metadata": {},
   "outputs": [
    {
     "data": {
      "text/html": [
       "<div>\n",
       "<style scoped>\n",
       "    .dataframe tbody tr th:only-of-type {\n",
       "        vertical-align: middle;\n",
       "    }\n",
       "\n",
       "    .dataframe tbody tr th {\n",
       "        vertical-align: top;\n",
       "    }\n",
       "\n",
       "    .dataframe thead th {\n",
       "        text-align: right;\n",
       "    }\n",
       "</style>\n",
       "<table border=\"1\" class=\"dataframe\">\n",
       "  <thead>\n",
       "    <tr style=\"text-align: right;\">\n",
       "      <th></th>\n",
       "      <th>f1</th>\n",
       "      <th>maxBins</th>\n",
       "      <th>maxDepth</th>\n",
       "      <th>numTrees</th>\n",
       "      <th>impurity</th>\n",
       "    </tr>\n",
       "  </thead>\n",
       "  <tbody>\n",
       "    <tr>\n",
       "      <th>0</th>\n",
       "      <td>0.665067</td>\n",
       "      <td>20</td>\n",
       "      <td>3</td>\n",
       "      <td>10</td>\n",
       "      <td>gini</td>\n",
       "    </tr>\n",
       "    <tr>\n",
       "      <th>1</th>\n",
       "      <td>0.670522</td>\n",
       "      <td>20</td>\n",
       "      <td>3</td>\n",
       "      <td>10</td>\n",
       "      <td>entropy</td>\n",
       "    </tr>\n",
       "    <tr>\n",
       "      <th>2</th>\n",
       "      <td>0.670554</td>\n",
       "      <td>20</td>\n",
       "      <td>3</td>\n",
       "      <td>20</td>\n",
       "      <td>gini</td>\n",
       "    </tr>\n",
       "    <tr>\n",
       "      <th>3</th>\n",
       "      <td>0.670522</td>\n",
       "      <td>20</td>\n",
       "      <td>3</td>\n",
       "      <td>20</td>\n",
       "      <td>entropy</td>\n",
       "    </tr>\n",
       "    <tr>\n",
       "      <th>4</th>\n",
       "      <td>0.670554</td>\n",
       "      <td>20</td>\n",
       "      <td>3</td>\n",
       "      <td>30</td>\n",
       "      <td>gini</td>\n",
       "    </tr>\n",
       "    <tr>\n",
       "      <th>...</th>\n",
       "      <td>...</td>\n",
       "      <td>...</td>\n",
       "      <td>...</td>\n",
       "      <td>...</td>\n",
       "      <td>...</td>\n",
       "    </tr>\n",
       "    <tr>\n",
       "      <th>67</th>\n",
       "      <td>0.707972</td>\n",
       "      <td>40</td>\n",
       "      <td>6</td>\n",
       "      <td>10</td>\n",
       "      <td>entropy</td>\n",
       "    </tr>\n",
       "    <tr>\n",
       "      <th>68</th>\n",
       "      <td>0.702833</td>\n",
       "      <td>40</td>\n",
       "      <td>6</td>\n",
       "      <td>20</td>\n",
       "      <td>gini</td>\n",
       "    </tr>\n",
       "    <tr>\n",
       "      <th>69</th>\n",
       "      <td>0.722079</td>\n",
       "      <td>40</td>\n",
       "      <td>6</td>\n",
       "      <td>20</td>\n",
       "      <td>entropy</td>\n",
       "    </tr>\n",
       "    <tr>\n",
       "      <th>70</th>\n",
       "      <td>0.725209</td>\n",
       "      <td>40</td>\n",
       "      <td>6</td>\n",
       "      <td>30</td>\n",
       "      <td>gini</td>\n",
       "    </tr>\n",
       "    <tr>\n",
       "      <th>71</th>\n",
       "      <td>0.724841</td>\n",
       "      <td>40</td>\n",
       "      <td>6</td>\n",
       "      <td>30</td>\n",
       "      <td>entropy</td>\n",
       "    </tr>\n",
       "  </tbody>\n",
       "</table>\n",
       "<p>72 rows × 5 columns</p>\n",
       "</div>"
      ],
      "text/plain": [
       "          f1  maxBins  maxDepth  numTrees impurity\n",
       "0   0.665067       20         3        10     gini\n",
       "1   0.670522       20         3        10  entropy\n",
       "2   0.670554       20         3        20     gini\n",
       "3   0.670522       20         3        20  entropy\n",
       "4   0.670554       20         3        30     gini\n",
       "..       ...      ...       ...       ...      ...\n",
       "67  0.707972       40         6        10  entropy\n",
       "68  0.702833       40         6        20     gini\n",
       "69  0.722079       40         6        20  entropy\n",
       "70  0.725209       40         6        30     gini\n",
       "71  0.724841       40         6        30  entropy\n",
       "\n",
       "[72 rows x 5 columns]"
      ]
     },
     "execution_count": 25,
     "metadata": {},
     "output_type": "execute_result"
    }
   ],
   "source": [
    "#Show results for all model parameters\n",
    "params_rf_cv = [{p.name: v for p, v in m.items()} for m in cvModel_rf.getEstimatorParamMaps()]\n",
    "results_rf_cv=pd.DataFrame.from_dict([\n",
    "    {cvModel_rf.getEvaluator().getMetricName(): metric, **ps} \n",
    "    for ps, metric in zip(params_rf_cv, cvModel_rf.avgMetrics)\n",
    "])\n",
    "\n",
    "results_rf_cv"
   ]
  },
  {
   "cell_type": "code",
   "execution_count": 28,
   "metadata": {},
   "outputs": [],
   "source": [
    "results_rf_cv.to_excel(\"random_forest_hyperparameter_results.xlsx\")"
   ]
  },
  {
   "cell_type": "code",
   "execution_count": 26,
   "metadata": {},
   "outputs": [
    {
     "name": "stdout",
     "output_type": "stream",
     "text": [
      "Accuracy: 0.8235294117647058\n",
      "Precision: 1.0\n",
      "F1-Score: 0.4\n",
      "Recall: 0.25\n",
      "\n",
      " Confusion Matrix \n",
      "\n",
      "TRUE_NEGATIVE:26.0 \t FALSE_POSITIVE:0.0\n",
      "FALSE_NEGATIVE:6.0 \t TRUE_POSITIVE: 2.0\n"
     ]
    }
   ],
   "source": [
    "model_evaluator(prediction_rf)"
   ]
  },
  {
   "cell_type": "code",
   "execution_count": 27,
   "metadata": {},
   "outputs": [
    {
     "data": {
      "text/html": [
       "<div>\n",
       "<style scoped>\n",
       "    .dataframe tbody tr th:only-of-type {\n",
       "        vertical-align: middle;\n",
       "    }\n",
       "\n",
       "    .dataframe tbody tr th {\n",
       "        vertical-align: top;\n",
       "    }\n",
       "\n",
       "    .dataframe thead th {\n",
       "        text-align: right;\n",
       "    }\n",
       "</style>\n",
       "<table border=\"1\" class=\"dataframe\">\n",
       "  <thead>\n",
       "    <tr style=\"text-align: right;\">\n",
       "      <th></th>\n",
       "      <th>Features</th>\n",
       "      <th>Importance</th>\n",
       "    </tr>\n",
       "  </thead>\n",
       "  <tbody>\n",
       "    <tr>\n",
       "      <th>0</th>\n",
       "      <td>max_membership_days</td>\n",
       "      <td>0.269922</td>\n",
       "    </tr>\n",
       "    <tr>\n",
       "      <th>1</th>\n",
       "      <td>active_days</td>\n",
       "      <td>0.080381</td>\n",
       "    </tr>\n",
       "    <tr>\n",
       "      <th>2</th>\n",
       "      <td>sum_page_add_friend</td>\n",
       "      <td>0.067848</td>\n",
       "    </tr>\n",
       "    <tr>\n",
       "      <th>3</th>\n",
       "      <td>sum_page_logout</td>\n",
       "      <td>0.061558</td>\n",
       "    </tr>\n",
       "    <tr>\n",
       "      <th>4</th>\n",
       "      <td>sum_status_307</td>\n",
       "      <td>0.055228</td>\n",
       "    </tr>\n",
       "    <tr>\n",
       "      <th>5</th>\n",
       "      <td>sum_page_thumbs_up</td>\n",
       "      <td>0.054233</td>\n",
       "    </tr>\n",
       "    <tr>\n",
       "      <th>6</th>\n",
       "      <td>sum_page_roll_advert</td>\n",
       "      <td>0.052999</td>\n",
       "    </tr>\n",
       "    <tr>\n",
       "      <th>7</th>\n",
       "      <td>sum_page_settings</td>\n",
       "      <td>0.050676</td>\n",
       "    </tr>\n",
       "    <tr>\n",
       "      <th>8</th>\n",
       "      <td>sum_page_add_to_playlist</td>\n",
       "      <td>0.046795</td>\n",
       "    </tr>\n",
       "    <tr>\n",
       "      <th>9</th>\n",
       "      <td>sum_page_about</td>\n",
       "      <td>0.035144</td>\n",
       "    </tr>\n",
       "    <tr>\n",
       "      <th>10</th>\n",
       "      <td>sum_page_nextsong</td>\n",
       "      <td>0.032382</td>\n",
       "    </tr>\n",
       "    <tr>\n",
       "      <th>11</th>\n",
       "      <td>sum_page_home</td>\n",
       "      <td>0.030246</td>\n",
       "    </tr>\n",
       "    <tr>\n",
       "      <th>12</th>\n",
       "      <td>sum_page_upgrade</td>\n",
       "      <td>0.027022</td>\n",
       "    </tr>\n",
       "    <tr>\n",
       "      <th>13</th>\n",
       "      <td>sum_status_200</td>\n",
       "      <td>0.027021</td>\n",
       "    </tr>\n",
       "    <tr>\n",
       "      <th>14</th>\n",
       "      <td>sum_page_help</td>\n",
       "      <td>0.026038</td>\n",
       "    </tr>\n",
       "    <tr>\n",
       "      <th>15</th>\n",
       "      <td>sum_page_error</td>\n",
       "      <td>0.024838</td>\n",
       "    </tr>\n",
       "    <tr>\n",
       "      <th>16</th>\n",
       "      <td>sum_status_404</td>\n",
       "      <td>0.019909</td>\n",
       "    </tr>\n",
       "    <tr>\n",
       "      <th>17</th>\n",
       "      <td>sum_page_save_settings</td>\n",
       "      <td>0.012972</td>\n",
       "    </tr>\n",
       "    <tr>\n",
       "      <th>18</th>\n",
       "      <td>sum_page_submit_upgrade</td>\n",
       "      <td>0.009997</td>\n",
       "    </tr>\n",
       "    <tr>\n",
       "      <th>19</th>\n",
       "      <td>gender_m</td>\n",
       "      <td>0.007031</td>\n",
       "    </tr>\n",
       "    <tr>\n",
       "      <th>20</th>\n",
       "      <td>level_paid</td>\n",
       "      <td>0.004063</td>\n",
       "    </tr>\n",
       "    <tr>\n",
       "      <th>21</th>\n",
       "      <td>sum_page_submit_downgrade</td>\n",
       "      <td>0.003695</td>\n",
       "    </tr>\n",
       "  </tbody>\n",
       "</table>\n",
       "</div>"
      ],
      "text/plain": [
       "                     Features  Importance\n",
       "0         max_membership_days    0.269922\n",
       "1                 active_days    0.080381\n",
       "2         sum_page_add_friend    0.067848\n",
       "3             sum_page_logout    0.061558\n",
       "4              sum_status_307    0.055228\n",
       "5          sum_page_thumbs_up    0.054233\n",
       "6        sum_page_roll_advert    0.052999\n",
       "7           sum_page_settings    0.050676\n",
       "8    sum_page_add_to_playlist    0.046795\n",
       "9              sum_page_about    0.035144\n",
       "10          sum_page_nextsong    0.032382\n",
       "11              sum_page_home    0.030246\n",
       "12           sum_page_upgrade    0.027022\n",
       "13             sum_status_200    0.027021\n",
       "14              sum_page_help    0.026038\n",
       "15             sum_page_error    0.024838\n",
       "16             sum_status_404    0.019909\n",
       "17     sum_page_save_settings    0.012972\n",
       "18    sum_page_submit_upgrade    0.009997\n",
       "19                   gender_m    0.007031\n",
       "20                 level_paid    0.004063\n",
       "21  sum_page_submit_downgrade    0.003695"
      ]
     },
     "execution_count": 27,
     "metadata": {},
     "output_type": "execute_result"
    }
   ],
   "source": [
    "importances_rf_cv = cvModel_rf.bestModel.stages[-1].featureImportances.toArray()\n",
    "feature_ranking_rf_cv=pd.DataFrame(data={'Features': np.array(input_cols),'Importance':importances_rf_cv})\\\n",
    "                    .sort_values('Importance', ascending=False).reset_index(drop=True)\n",
    "feature_ranking_rf_cv"
   ]
  }
 ],
 "metadata": {
  "kernelspec": {
   "display_name": "Python 3",
   "language": "python",
   "name": "python3"
  },
  "language_info": {
   "codemirror_mode": {
    "name": "ipython",
    "version": 3
   },
   "file_extension": ".py",
   "mimetype": "text/x-python",
   "name": "python",
   "nbconvert_exporter": "python",
   "pygments_lexer": "ipython3",
   "version": "3.7.10"
  }
 },
 "nbformat": 4,
 "nbformat_minor": 2
}
